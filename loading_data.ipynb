{
 "cells": [
  {
   "cell_type": "code",
   "execution_count": 1,
   "metadata": {},
   "outputs": [],
   "source": [
    "# Importing the PySpark Libraries\n",
    "import pyspark\n",
    "from pyspark.sql import SparkSession\n",
    "from pyspark.sql.types import *\n",
    "from pyspark.sql.functions import *\n",
    "from pyspark.sql.window import Window\n",
    "import matplotlib.pyplot as plt\n",
    "import random\n",
    "import plotly.express as px\n",
    "import plotly.io as pio\n"
   ]
  },
  {
   "cell_type": "code",
   "execution_count": 2,
   "metadata": {},
   "outputs": [],
   "source": [
    "# Running the Spark Session\n",
    "spark = SparkSession.builder.appName(\"demographic\").getOrCreate()\n"
   ]
  },
  {
   "cell_type": "code",
   "execution_count": 3,
   "metadata": {},
   "outputs": [
    {
     "name": "stdout",
     "output_type": "stream",
     "text": [
      "root\n",
      " |-- Id: string (nullable = true)\n",
      " |-- Name: string (nullable = true)\n",
      " |-- Short description: string (nullable = true)\n",
      " |-- Gender: string (nullable = true)\n",
      " |-- Country: string (nullable = true)\n",
      " |-- Occupation: string (nullable = true)\n",
      " |-- Birth year: integer (nullable = true)\n",
      " |-- Death year: integer (nullable = true)\n",
      " |-- Manner of death: string (nullable = true)\n",
      " |-- Age of death: integer (nullable = true)\n",
      "\n"
     ]
    }
   ],
   "source": [
    "# Loading the csv data into the Spark DF\n",
    "path = \"resources/data/AgeDataset-V1.csv\"\n",
    "\n",
    "demographics_schema = StructType([\n",
    "    StructField(\"Id\", StringType(), True),\n",
    "    StructField(\"Name\", StringType(), True),\n",
    "    StructField(\"Short description\",StringType(), True),\n",
    "    StructField(\"Gender\", StringType(), True),\n",
    "    StructField(\"Country\", StringType(), True),\n",
    "    StructField(\"Occupation\", StringType(), True),\n",
    "    StructField(\"Birth year\", IntegerType(), True),\n",
    "    StructField(\"Death year\", IntegerType(), True),\n",
    "    StructField(\"Manner of death\", StringType(),True),\n",
    "    StructField(\"Age of death\", IntegerType(), True),\n",
    "])\n",
    "\n",
    "df = spark.read.option(\"header\",'True').option('delimiter', ',').schema(demographics_schema).csv(path)\n",
    "df.printSchema()"
   ]
  },
  {
   "cell_type": "code",
   "execution_count": 4,
   "metadata": {},
   "outputs": [
    {
     "name": "stdout",
     "output_type": "stream",
     "text": [
      "     Id                       Name  \\\n",
      "0   Q23          George Washington   \n",
      "1   Q42              Douglas Adams   \n",
      "2   Q91            Abraham Lincoln   \n",
      "3  Q254    Wolfgang Amadeus Mozart   \n",
      "4  Q255       Ludwig van Beethoven   \n",
      "5  Q260  Jean-François Champollion   \n",
      "6  Q272                Paul Morand   \n",
      "7  Q296               Claude Monet   \n",
      "8  Q297            Diego Velázquez   \n",
      "9  Q301                   El Greco   \n",
      "\n",
      "                                 Short description Gender  \\\n",
      "0   1st president of the United States (1732–1799)   Male   \n",
      "1                      English writer and humorist   Male   \n",
      "2  16th president of the United States (1809-1865)   Male   \n",
      "3        Austrian composer of the Classical period   Male   \n",
      "4           German classical and romantic composer   Male   \n",
      "5                         French classical scholar   Male   \n",
      "6                                    French writer   Male   \n",
      "7         French impressionist painter (1840-1926)   Male   \n",
      "8                      Spanish painter (1599-1660)   Male   \n",
      "9            Greek painter, sculptor and architect   Male   \n",
      "\n",
      "                                             Country    Occupation  \\\n",
      "0  United States of America; Kingdom of Great Bri...    Politician   \n",
      "1                                     United Kingdom        Artist   \n",
      "2                           United States of America    Politician   \n",
      "3    Archduchy of Austria; Archbishopric of Salzburg        Artist   \n",
      "4                 Holy Roman Empire; Austrian Empire        Artist   \n",
      "5             Kingdom of France; First French Empire  Egyptologist   \n",
      "6                                             France        Artist   \n",
      "7                                             France        Artist   \n",
      "8                                              Spain        Artist   \n",
      "9                          Spain; Republic of Venice        Artist   \n",
      "\n",
      "   Birth year  Death year Manner of death  Age of death  \n",
      "0        1732        1799  natural causes            67  \n",
      "1        1952        2001  natural causes            49  \n",
      "2        1809        1865        homicide            56  \n",
      "3        1756        1791            None            35  \n",
      "4        1770        1827            None            57  \n",
      "5        1790        1832  natural causes            42  \n",
      "6        1888        1976            None            88  \n",
      "7        1840        1926  natural causes            86  \n",
      "8        1599        1660            None            61  \n",
      "9        1541        1614            None            73  \n",
      "# of Rows : 1223009\n",
      "# of Columns : 10\n"
     ]
    }
   ],
   "source": [
    "# Summary Statistics - \n",
    "print(df.limit(10).toPandas()) # Top 10 rows\n",
    "\n",
    "# no. of rows\n",
    "print(f\"# of Rows : {df.count()}\")\n",
    "\n",
    "# no. of columns\n",
    "print(f\"# of Columns : {len(df.columns)}\")\n"
   ]
  },
  {
   "cell_type": "code",
   "execution_count": 5,
   "metadata": {},
   "outputs": [
    {
     "name": "stdout",
     "output_type": "stream",
     "text": [
      "+-------+--------+--------------------+------------------+--------------------+---------------+--------------------+------------------+------------------+------------------+-----------------+\n",
      "|summary|      Id|                Name| Short description|              Gender|        Country|          Occupation|        Birth year|        Death year|   Manner of death|     Age of death|\n",
      "+-------+--------+--------------------+------------------+--------------------+---------------+--------------------+------------------+------------------+------------------+-----------------+\n",
      "|  count| 1223009|             1223009|           1155109|             1089396|         887576|             1016052|           1222781|           1222971|             53821|          1222804|\n",
      "|   mean|    null|                66.0|-186.9090909090909|                null|           null|              1859.0|1844.9705139350383|1914.2348052406803|1918.0096153846155|69.30916156636714|\n",
      "| stddev|    null|                null| 1834.666043428365|                null|           null|                null|147.94821092834252|151.69263158329426| 93.82108527598385|18.46049032675193|\n",
      "|    min|Q1000005|\"\"\"Big\"\" Donnie M...|              Jr.\"|  Department of G...| 1820; director| 1823; generaladm...|             -2700|             -2659|    Royal Militar\"|                0|\n",
      "|    max|Q9999999|     후루타 시게하루|       헝가리 기자|was a German seri...|       الجزائر.|مجموعة الأنظمة من...|              2016|              2021|           Şəhadət|             2015|\n",
      "+-------+--------+--------------------+------------------+--------------------+---------------+--------------------+------------------+------------------+------------------+-----------------+\n",
      "\n"
     ]
    }
   ],
   "source": [
    "df.describe().show()"
   ]
  },
  {
   "cell_type": "code",
   "execution_count": 6,
   "metadata": {},
   "outputs": [
    {
     "name": "stdout",
     "output_type": "stream",
     "text": [
      "+---+----+-----------------+------+-------+----------+----------+----------+---------------+------------+\n",
      "| Id|Name|Short description|Gender|Country|Occupation|Birth year|Death year|Manner of death|Age of death|\n",
      "+---+----+-----------------+------+-------+----------+----------+----------+---------------+------------+\n",
      "|  0|   0|            67900|133613| 335433|    206957|       228|        38|        1169188|         205|\n",
      "+---+----+-----------------+------+-------+----------+----------+----------+---------------+------------+\n",
      "\n"
     ]
    }
   ],
   "source": [
    "# finding missing values in the data\n",
    "df.select([count(when(isnan(c) | col(c).isNull(), c)).alias(c) for c in df.columns]).show()\n"
   ]
  },
  {
   "cell_type": "code",
   "execution_count": 20,
   "metadata": {},
   "outputs": [
    {
     "name": "stdout",
     "output_type": "stream",
     "text": [
      "# of Rows : 735684\n"
     ]
    }
   ],
   "source": [
    "# Removing columns with empty or null values\n",
    "updated_df = df.na.drop(subset=['Gender','Country','Occupation', 'Age of death', 'Death year'])\n",
    "\n",
    "print(f\"# of Rows : {updated_df.count()}\")\n",
    "#updated_df.select([count(when(isnan(c) | col(c).isNull(), c)).alias(c) for c in df.columns]).show()"
   ]
  },
  {
   "cell_type": "code",
   "execution_count": 21,
   "metadata": {},
   "outputs": [
    {
     "name": "stdout",
     "output_type": "stream",
     "text": [
      "+------------------+------+\n",
      "|        Occupation| count|\n",
      "+------------------+------+\n",
      "|            Artist|207578|\n",
      "|        Politician|153139|\n",
      "|           Athlete| 92806|\n",
      "|        Researcher| 64194|\n",
      "|Military personnel| 36312|\n",
      "|  Religious figure| 18640|\n",
      "|         Architect| 12612|\n",
      "|    Businessperson| 12233|\n",
      "|        Journalist| 10946|\n",
      "|           Teacher| 10901|\n",
      "|          Engineer|  8355|\n",
      "|         Physician|  7591|\n",
      "|             Judge|  5732|\n",
      "|            Lawyer|  4467|\n",
      "|            Jurist|  2849|\n",
      "|      Entrepreneur|  2504|\n",
      "|        Aristocrat|  2043|\n",
      "|        Translator|  1748|\n",
      "|         Publisher|  1712|\n",
      "|       Philosopher|  1710|\n",
      "+------------------+------+\n",
      "only showing top 20 rows\n",
      "\n"
     ]
    }
   ],
   "source": [
    "occ_top_10 = updated_df.groupBy('Occupation').count().orderBy(desc('count')).show()"
   ]
  },
  {
   "cell_type": "code",
   "execution_count": 22,
   "metadata": {},
   "outputs": [
    {
     "name": "stdout",
     "output_type": "stream",
     "text": [
      "+--------------------+------+\n",
      "|              Gender| count|\n",
      "+--------------------+------+\n",
      "|                Male|662020|\n",
      "|              Female| 73537|\n",
      "|  Transgender Female|    57|\n",
      "|    Transgender Male|    30|\n",
      "|        Eunuch; Male|    13|\n",
      "|            Intersex|     7|\n",
      "|        Female; Male|     5|\n",
      "|Transgender Male;...|     3|\n",
      "|          Non-Binary|     2|\n",
      "|Transgender Perso...|     1|\n",
      "|      Intersex; Male|     1|\n",
      "|Transgender Femal...|     1|\n",
      "|Transgender Femal...|     1|\n",
      "|Intersex; Transge...|     1|\n",
      "|Transgender Male;...|     1|\n",
      "|              Eunuch|     1|\n",
      "|Transgender Femal...|     1|\n",
      "|      Female; Female|     1|\n",
      "|    Intersex; Female|     1|\n",
      "+--------------------+------+\n",
      "\n"
     ]
    }
   ],
   "source": [
    "gender_top = updated_df.groupBy('Gender').count().orderBy(desc('count')).show()"
   ]
  },
  {
   "cell_type": "code",
   "execution_count": 28,
   "metadata": {},
   "outputs": [
    {
     "name": "stdout",
     "output_type": "stream",
     "text": [
      "+-------------------------------+\n",
      "|count(DISTINCT Manner of death)|\n",
      "+-------------------------------+\n",
      "|                            177|\n",
      "+-------------------------------+\n",
      "\n"
     ]
    }
   ],
   "source": [
    "updated_df.select(countDistinct('Manner of death')).show()"
   ]
  },
  {
   "cell_type": "code",
   "execution_count": 9,
   "metadata": {},
   "outputs": [
    {
     "name": "stdout",
     "output_type": "stream",
     "text": [
      "+----+--------------------+--------------------+------+--------------------+----------+----------+----------+---------------+------------+\n",
      "|  Id|                Name|   Short description|Gender|             Country|Occupation|Birth year|Death year|Manner of death|Age of death|\n",
      "+----+--------------------+--------------------+------+--------------------+----------+----------+----------+---------------+------------+\n",
      "| Q23|   George Washington|1st president of ...|  Male|United States of ...|Politician|      1732|      1799| natural causes|          67|\n",
      "| Q42|       Douglas Adams|English writer an...|  Male|      United Kingdom|    Artist|      1952|      2001| natural causes|          49|\n",
      "| Q91|     Abraham Lincoln|16th president of...|  Male|United States of ...|Politician|      1809|      1865|       homicide|          56|\n",
      "|Q254|Wolfgang Amadeus ...|Austrian composer...|  Male|Archduchy of Aust...|    Artist|      1756|      1791|           null|          35|\n",
      "|Q255|Ludwig van Beethoven|German classical ...|  Male|Holy Roman Empire...|    Artist|      1770|      1827|           null|          57|\n",
      "|Q260|Jean-François Cha...|French classical ...|  Male|Kingdom of France...|     Other|      1790|      1832| natural causes|          42|\n",
      "|Q272|         Paul Morand|       French writer|  Male|              France|    Artist|      1888|      1976|           null|          88|\n",
      "|Q296|        Claude Monet|French impression...|  Male|              France|    Artist|      1840|      1926| natural causes|          86|\n",
      "|Q297|     Diego Velázquez|Spanish painter (...|  Male|               Spain|    Artist|      1599|      1660|           null|          61|\n",
      "|Q301|            El Greco|Greek painter, sc...|  Male|Spain; Republic o...|    Artist|      1541|      1614|           null|          73|\n",
      "+----+--------------------+--------------------+------+--------------------+----------+----------+----------+---------------+------------+\n",
      "only showing top 10 rows\n",
      "\n"
     ]
    }
   ],
   "source": [
    "# Data Cleaning\n",
    "\n",
    "# Fetching the top 10 occupations\n",
    "#occ_top_10 = updated_df.groupBy('Occupation').count().orderBy(desc('count')).limit(10).show()\n",
    "\n",
    "\n",
    "occ_list = ['Artist', 'Politician','Athelete','Researcher', 'Military personnel','Religious figure','Architect', 'Businessperson','Journalist','Teacher']\n",
    "# Replacing the Gender into 3 categories (Male/Female/Other)\n",
    "updated_df = updated_df.withColumn(\"Gender\", when(col(\"Gender\") == \"Male\", \"Male\").when(col(\"Gender\") == \"Female\", \"Female\").otherwise(\"Other/Unknown\"))\n",
    "#gen_top_3 = updated_df.groupBy('Gender').count().orderBy(desc('count')).limit(3).show()\n",
    "\n",
    "# Considering the top 10 occupations\n",
    "updated_df = updated_df.withColumn(\"Occupation\", when(~col(\"Occupation\").isin(occ_list), \"Other\").otherwise(df.Occupation))\n",
    "updated_df.show(10)\n"
   ]
  },
  {
   "cell_type": "code",
   "execution_count": 10,
   "metadata": {},
   "outputs": [
    {
     "data": {
      "text/plain": [
       "[Text(0.5, 0, 'Counts per Gender'),\n",
       " Text(0, 0.5, 'Occupation'),\n",
       " [Text(0, 0, 'Military personnel'),\n",
       "  Text(0, 1, 'Businessperson'),\n",
       "  Text(0, 2, 'Teacher'),\n",
       "  Text(0, 3, 'Other'),\n",
       "  Text(0, 4, 'Architect'),\n",
       "  Text(0, 5, 'Artist'),\n",
       "  Text(0, 6, 'Religious figure'),\n",
       "  Text(0, 7, 'Researcher'),\n",
       "  Text(0, 8, 'Journalist'),\n",
       "  Text(0, 9, 'Politician')]]"
      ]
     },
     "execution_count": 10,
     "metadata": {},
     "output_type": "execute_result"
    },
    {
     "data": {
      "image/png": "[encoded data removed]",
      "text/plain": [
       "<Figure size 1200x1100 with 1 Axes>"
      ]
     },
     "metadata": {},
     "output_type": "display_data"
    }
   ],
   "source": [
    "updated_df.createOrReplaceTempView(\"demographics\")\n",
    "\n",
    "sql_query = \"\"\"SELECT Occupation, \n",
    "                Count(case when Gender='Male' then 1 end) as male_cnt, \n",
    "                count(case when Gender='Female' then 1 end) as female_cnt, \n",
    "                count(case when Gender='Other/Unknown' then 1 end) as other_cnt\n",
    "                FROM demographics GROUP BY Occupation\n",
    "            \"\"\"\n",
    "#sql_df = spark.sql(sql_query).show()\n",
    "ylabels = [i.Occupation for i in updated_df.select('Occupation').distinct().collect()]\n",
    "spark.sql(sql_query).toPandas().plot(kind='barh', figsize=(12,11), title='Occupation and Gender',cmap = 'Accent').set(xlabel=\"Counts per Gender\", ylabel=\"Occupation\", yticklabels=ylabels)\n"
   ]
  },
  {
   "cell_type": "code",
   "execution_count": 11,
   "metadata": {},
   "outputs": [
    {
     "data": {
      "text/plain": [
       "[Text(0.5, 0, 'Manner of death'),\n",
       " Text(0, 0.5, 'Counts'),\n",
       " [Text(0, 0, 'natural causes'),\n",
       "  Text(1, 0, 'suicide'),\n",
       "  Text(2, 0, 'accident'),\n",
       "  Text(3, 0, 'homicide'),\n",
       "  Text(4, 0, 'capital punishment'),\n",
       "  Text(5, 0, 'unnatural death'),\n",
       "  Text(6, 0, 'death in battle'),\n",
       "  Text(7, 0, 'capital punishment; unnatural death'),\n",
       "  Text(8, 0, 'capital punishment; homicide'),\n",
       "  Text(9, 0, 'accident; natural causes'),\n",
       "  Text(10, 0, 'capital punishment; suicide'),\n",
       "  Text(11, 0, 'suicide; accident'),\n",
       "  Text(12, 0, 'suicide; homicide'),\n",
       "  Text(13, 0, 'homicide; homicide'),\n",
       "  Text(14, 0, 'shipwrecking'),\n",
       "  Text(15, 0, 'war'),\n",
       "  Text(16, 0, 'Eastern Front of World War II'),\n",
       "  Text(17, 0, 'euthanasia'),\n",
       "  Text(18, 0, 'extrajudicial killing'),\n",
       "  Text(19, 0, 'suicide; natural causes')]]"
      ]
     },
     "execution_count": 11,
     "metadata": {},
     "output_type": "execute_result"
    },
    {
     "data": {
      "image/png": "[encoded data removed]",
      "text/plain": [
       "<Figure size 640x480 with 1 Axes>"
      ]
     },
     "metadata": {},
     "output_type": "display_data"
    }
   ],
   "source": [
    "## Plotting the Top-20 'Manner of Death' Distribution. \n",
    "t_df = updated_df.groupBy('Manner of death').agg(count('Manner of death').alias('Manner_of_death_cnt')).sort(col('Manner_of_death_cnt').desc()).limit(20)\n",
    "\n",
    "xlabels = [i['Manner of death'] for i in t_df.select('Manner of death').distinct().collect()]\n",
    "color = \"#\"+''.join([random.choice('0123456789ABCDEF') for j in range(6)])\n",
    "t_df.toPandas().plot(kind='bar', logy=True, color=color).set(xlabel=\"Manner of death\", ylabel=\"Counts\", xticklabels=xlabels)"
   ]
  },
  {
   "cell_type": "code",
   "execution_count": 12,
   "metadata": {},
   "outputs": [
    {
     "name": "stdout",
     "output_type": "stream",
     "text": [
      "+--------------------+-----------+\n",
      "|             Country|Country_cnt|\n",
      "+--------------------+-----------+\n",
      "|United States of ...|     145140|\n",
      "|             Germany|      78701|\n",
      "|              France|      64278|\n",
      "|United Kingdom; U...|      28269|\n",
      "|      United Kingdom|      21297|\n",
      "|              Canada|      20985|\n",
      "|               Spain|      20714|\n",
      "|              Sweden|      18606|\n",
      "|United Kingdom of...|      17340|\n",
      "|Italy; Kingdom of...|      15223|\n",
      "|              Poland|      14157|\n",
      "|              Norway|      13563|\n",
      "|Kingdom of the Ne...|      13470|\n",
      "|           Australia|      13458|\n",
      "|             Austria|      12552|\n",
      "+--------------------+-----------+\n",
      "\n"
     ]
    },
    {
     "data": {
      "application/vnd.plotly.v1+json": {
       "config": {
        "plotlyServerURL": "https://plot.ly"
       },
       "data": [
        {
         "domain": {
          "x": [
           0,
           1
          ],
          "y": [
           0,
           1
          ]
         },
         "hovertemplate": "Country=%{label}<br>Country_cnt=%{value}<extra></extra>",
         "labels": [
          "United States of America",
          "Germany",
          "France",
          "United Kingdom; United Kingdom of Great Britain and Ireland",
          "United Kingdom",
          "Canada",
          "Spain",
          "Sweden",
          "United Kingdom of Great Britain and Ireland",
          "Italy; Kingdom of Italy",
          "Poland",
          "Norway",
          "Kingdom of the Netherlands",
          "Australia",
          "Austria"
         ],
         "legendgroup": "",
         "name": "",
         "showlegend": true,
         "type": "pie",
         "values": [
          145140,
          78701,
          64278,
          28269,
          21297,
          20985,
          20714,
          18606,
          17340,
          15223,
          14157,
          13563,
          13470,
          13458,
          12552
         ]
        }
       ],
       "layout": {
        "legend": {
         "tracegroupgap": 0
        },
        "template": {
         "data": {
          "bar": [
           {
            "error_x": {
             "color": "#f2f5fa"
            },
            "error_y": {
             "color": "#f2f5fa"
            },
            "marker": {
             "line": {
              "color": "rgb(17,17,17)",
              "width": 0.5
             },
             "pattern": {
              "fillmode": "overlay",
              "size": 10,
              "solidity": 0.2
             }
            },
            "type": "bar"
           }
          ],
          "barpolar": [
           {
            "marker": {
             "line": {
              "color": "rgb(17,17,17)",
              "width": 0.5
             },
             "pattern": {
              "fillmode": "overlay",
              "size": 10,
              "solidity": 0.2
             }
            },
            "type": "barpolar"
           }
          ],
          "carpet": [
           {
            "aaxis": {
             "endlinecolor": "#A2B1C6",
             "gridcolor": "#506784",
             "linecolor": "#506784",
             "minorgridcolor": "#506784",
             "startlinecolor": "#A2B1C6"
            },
            "baxis": {
             "endlinecolor": "#A2B1C6",
             "gridcolor": "#506784",
             "linecolor": "#506784",
             "minorgridcolor": "#506784",
             "startlinecolor": "#A2B1C6"
            },
            "type": "carpet"
           }
          ],
          "choropleth": [
           {
            "colorbar": {
             "outlinewidth": 0,
             "ticks": ""
            },
            "type": "choropleth"
           }
          ],
          "contour": [
           {
            "colorbar": {
             "outlinewidth": 0,
             "ticks": ""
            },
            "colorscale": [
             [
              0,
              "#0d0887"
             ],
             [
              0.1111111111111111,
              "#46039f"
             ],
             [
              0.2222222222222222,
              "#7201a8"
             ],
             [
              0.3333333333333333,
              "#9c179e"
             ],
             [
              0.4444444444444444,
              "#bd3786"
             ],
             [
              0.5555555555555556,
              "#d8576b"
             ],
             [
              0.6666666666666666,
              "#ed7953"
             ],
             [
              0.7777777777777778,
              "#fb9f3a"
             ],
             [
              0.8888888888888888,
              "#fdca26"
             ],
             [
              1,
              "#f0f921"
             ]
            ],
            "type": "contour"
           }
          ],
          "contourcarpet": [
           {
            "colorbar": {
             "outlinewidth": 0,
             "ticks": ""
            },
            "type": "contourcarpet"
           }
          ],
          "heatmap": [
           {
            "colorbar": {
             "outlinewidth": 0,
             "ticks": ""
            },
            "colorscale": [
             [
              0,
              "#0d0887"
             ],
             [
              0.1111111111111111,
              "#46039f"
             ],
             [
              0.2222222222222222,
              "#7201a8"
             ],
             [
              0.3333333333333333,
              "#9c179e"
             ],
             [
              0.4444444444444444,
              "#bd3786"
             ],
             [
              0.5555555555555556,
              "#d8576b"
             ],
             [
              0.6666666666666666,
              "#ed7953"
             ],
             [
              0.7777777777777778,
              "#fb9f3a"
             ],
             [
              0.8888888888888888,
              "#fdca26"
             ],
             [
              1,
              "#f0f921"
             ]
            ],
            "type": "heatmap"
           }
          ],
          "heatmapgl": [
           {
            "colorbar": {
             "outlinewidth": 0,
             "ticks": ""
            },
            "colorscale": [
             [
              0,
              "#0d0887"
             ],
             [
              0.1111111111111111,
              "#46039f"
             ],
             [
              0.2222222222222222,
              "#7201a8"
             ],
             [
              0.3333333333333333,
              "#9c179e"
             ],
             [
              0.4444444444444444,
              "#bd3786"
             ],
             [
              0.5555555555555556,
              "#d8576b"
             ],
             [
              0.6666666666666666,
              "#ed7953"
             ],
             [
              0.7777777777777778,
              "#fb9f3a"
             ],
             [
              0.8888888888888888,
              "#fdca26"
             ],
             [
              1,
              "#f0f921"
             ]
            ],
            "type": "heatmapgl"
           }
          ],
          "histogram": [
           {
            "marker": {
             "pattern": {
              "fillmode": "overlay",
              "size": 10,
              "solidity": 0.2
             }
            },
            "type": "histogram"
           }
          ],
          "histogram2d": [
           {
            "colorbar": {
             "outlinewidth": 0,
             "ticks": ""
            },
            "colorscale": [
             [
              0,
              "#0d0887"
             ],
             [
              0.1111111111111111,
              "#46039f"
             ],
             [
              0.2222222222222222,
              "#7201a8"
             ],
             [
              0.3333333333333333,
              "#9c179e"
             ],
             [
              0.4444444444444444,
              "#bd3786"
             ],
             [
              0.5555555555555556,
              "#d8576b"
             ],
             [
              0.6666666666666666,
              "#ed7953"
             ],
             [
              0.7777777777777778,
              "#fb9f3a"
             ],
             [
              0.8888888888888888,
              "#fdca26"
             ],
             [
              1,
              "#f0f921"
             ]
            ],
            "type": "histogram2d"
           }
          ],
          "histogram2dcontour": [
           {
            "colorbar": {
             "outlinewidth": 0,
             "ticks": ""
            },
            "colorscale": [
             [
              0,
              "#0d0887"
             ],
             [
              0.1111111111111111,
              "#46039f"
             ],
             [
              0.2222222222222222,
              "#7201a8"
             ],
             [
              0.3333333333333333,
              "#9c179e"
             ],
             [
              0.4444444444444444,
              "#bd3786"
             ],
             [
              0.5555555555555556,
              "#d8576b"
             ],
             [
              0.6666666666666666,
              "#ed7953"
             ],
             [
              0.7777777777777778,
              "#fb9f3a"
             ],
             [
              0.8888888888888888,
              "#fdca26"
             ],
             [
              1,
              "#f0f921"
             ]
            ],
            "type": "histogram2dcontour"
           }
          ],
          "mesh3d": [
           {
            "colorbar": {
             "outlinewidth": 0,
             "ticks": ""
            },
            "type": "mesh3d"
           }
          ],
          "parcoords": [
           {
            "line": {
             "colorbar": {
              "outlinewidth": 0,
              "ticks": ""
             }
            },
            "type": "parcoords"
           }
          ],
          "pie": [
           {
            "automargin": true,
            "type": "pie"
           }
          ],
          "scatter": [
           {
            "marker": {
             "line": {
              "color": "#283442"
             }
            },
            "type": "scatter"
           }
          ],
          "scatter3d": [
           {
            "line": {
             "colorbar": {
              "outlinewidth": 0,
              "ticks": ""
             }
            },
            "marker": {
             "colorbar": {
              "outlinewidth": 0,
              "ticks": ""
             }
            },
            "type": "scatter3d"
           }
          ],
          "scattercarpet": [
           {
            "marker": {
             "colorbar": {
              "outlinewidth": 0,
              "ticks": ""
             }
            },
            "type": "scattercarpet"
           }
          ],
          "scattergeo": [
           {
            "marker": {
             "colorbar": {
              "outlinewidth": 0,
              "ticks": ""
             }
            },
            "type": "scattergeo"
           }
          ],
          "scattergl": [
           {
            "marker": {
             "line": {
              "color": "#283442"
             }
            },
            "type": "scattergl"
           }
          ],
          "scattermapbox": [
           {
            "marker": {
             "colorbar": {
              "outlinewidth": 0,
              "ticks": ""
             }
            },
            "type": "scattermapbox"
           }
          ],
          "scatterpolar": [
           {
            "marker": {
             "colorbar": {
              "outlinewidth": 0,
              "ticks": ""
             }
            },
            "type": "scatterpolar"
           }
          ],
          "scatterpolargl": [
           {
            "marker": {
             "colorbar": {
              "outlinewidth": 0,
              "ticks": ""
             }
            },
            "type": "scatterpolargl"
           }
          ],
          "scatterternary": [
           {
            "marker": {
             "colorbar": {
              "outlinewidth": 0,
              "ticks": ""
             }
            },
            "type": "scatterternary"
           }
          ],
          "surface": [
           {
            "colorbar": {
             "outlinewidth": 0,
             "ticks": ""
            },
            "colorscale": [
             [
              0,
              "#0d0887"
             ],
             [
              0.1111111111111111,
              "#46039f"
             ],
             [
              0.2222222222222222,
              "#7201a8"
             ],
             [
              0.3333333333333333,
              "#9c179e"
             ],
             [
              0.4444444444444444,
              "#bd3786"
             ],
             [
              0.5555555555555556,
              "#d8576b"
             ],
             [
              0.6666666666666666,
              "#ed7953"
             ],
             [
              0.7777777777777778,
              "#fb9f3a"
             ],
             [
              0.8888888888888888,
              "#fdca26"
             ],
             [
              1,
              "#f0f921"
             ]
            ],
            "type": "surface"
           }
          ],
          "table": [
           {
            "cells": {
             "fill": {
              "color": "#506784"
             },
             "line": {
              "color": "rgb(17,17,17)"
             }
            },
            "header": {
             "fill": {
              "color": "#2a3f5f"
             },
             "line": {
              "color": "rgb(17,17,17)"
             }
            },
            "type": "table"
           }
          ]
         },
         "layout": {
          "annotationdefaults": {
           "arrowcolor": "#f2f5fa",
           "arrowhead": 0,
           "arrowwidth": 1
          },
          "autotypenumbers": "strict",
          "coloraxis": {
           "colorbar": {
            "outlinewidth": 0,
            "ticks": ""
           }
          },
          "colorscale": {
           "diverging": [
            [
             0,
             "#8e0152"
            ],
            [
             0.1,
             "#c51b7d"
            ],
            [
             0.2,
             "#de77ae"
            ],
            [
             0.3,
             "#f1b6da"
            ],
            [
             0.4,
             "#fde0ef"
            ],
            [
             0.5,
             "#f7f7f7"
            ],
            [
             0.6,
             "#e6f5d0"
            ],
            [
             0.7,
             "#b8e186"
            ],
            [
             0.8,
             "#7fbc41"
            ],
            [
             0.9,
             "#4d9221"
            ],
            [
             1,
             "#276419"
            ]
           ],
           "sequential": [
            [
             0,
             "#0d0887"
            ],
            [
             0.1111111111111111,
             "#46039f"
            ],
            [
             0.2222222222222222,
             "#7201a8"
            ],
            [
             0.3333333333333333,
             "#9c179e"
            ],
            [
             0.4444444444444444,
             "#bd3786"
            ],
            [
             0.5555555555555556,
             "#d8576b"
            ],
            [
             0.6666666666666666,
             "#ed7953"
            ],
            [
             0.7777777777777778,
             "#fb9f3a"
            ],
            [
             0.8888888888888888,
             "#fdca26"
            ],
            [
             1,
             "#f0f921"
            ]
           ],
           "sequentialminus": [
            [
             0,
             "#0d0887"
            ],
            [
             0.1111111111111111,
             "#46039f"
            ],
            [
             0.2222222222222222,
             "#7201a8"
            ],
            [
             0.3333333333333333,
             "#9c179e"
            ],
            [
             0.4444444444444444,
             "#bd3786"
            ],
            [
             0.5555555555555556,
             "#d8576b"
            ],
            [
             0.6666666666666666,
             "#ed7953"
            ],
            [
             0.7777777777777778,
             "#fb9f3a"
            ],
            [
             0.8888888888888888,
             "#fdca26"
            ],
            [
             1,
             "#f0f921"
            ]
           ]
          },
          "colorway": [
           "#636efa",
           "#EF553B",
           "#00cc96",
           "#ab63fa",
           "#FFA15A",
           "#19d3f3",
           "#FF6692",
           "#B6E880",
           "#FF97FF",
           "#FECB52"
          ],
          "font": {
           "color": "#f2f5fa"
          },
          "geo": {
           "bgcolor": "rgb(17,17,17)",
           "lakecolor": "rgb(17,17,17)",
           "landcolor": "rgb(17,17,17)",
           "showlakes": true,
           "showland": true,
           "subunitcolor": "#506784"
          },
          "hoverlabel": {
           "align": "left"
          },
          "hovermode": "closest",
          "mapbox": {
           "style": "dark"
          },
          "paper_bgcolor": "rgb(17,17,17)",
          "plot_bgcolor": "rgb(17,17,17)",
          "polar": {
           "angularaxis": {
            "gridcolor": "#506784",
            "linecolor": "#506784",
            "ticks": ""
           },
           "bgcolor": "rgb(17,17,17)",
           "radialaxis": {
            "gridcolor": "#506784",
            "linecolor": "#506784",
            "ticks": ""
           }
          },
          "scene": {
           "xaxis": {
            "backgroundcolor": "rgb(17,17,17)",
            "gridcolor": "#506784",
            "gridwidth": 2,
            "linecolor": "#506784",
            "showbackground": true,
            "ticks": "",
            "zerolinecolor": "#C8D4E3"
           },
           "yaxis": {
            "backgroundcolor": "rgb(17,17,17)",
            "gridcolor": "#506784",
            "gridwidth": 2,
            "linecolor": "#506784",
            "showbackground": true,
            "ticks": "",
            "zerolinecolor": "#C8D4E3"
           },
           "zaxis": {
            "backgroundcolor": "rgb(17,17,17)",
            "gridcolor": "#506784",
            "gridwidth": 2,
            "linecolor": "#506784",
            "showbackground": true,
            "ticks": "",
            "zerolinecolor": "#C8D4E3"
           }
          },
          "shapedefaults": {
           "line": {
            "color": "#f2f5fa"
           }
          },
          "sliderdefaults": {
           "bgcolor": "#C8D4E3",
           "bordercolor": "rgb(17,17,17)",
           "borderwidth": 1,
           "tickwidth": 0
          },
          "ternary": {
           "aaxis": {
            "gridcolor": "#506784",
            "linecolor": "#506784",
            "ticks": ""
           },
           "baxis": {
            "gridcolor": "#506784",
            "linecolor": "#506784",
            "ticks": ""
           },
           "bgcolor": "rgb(17,17,17)",
           "caxis": {
            "gridcolor": "#506784",
            "linecolor": "#506784",
            "ticks": ""
           }
          },
          "title": {
           "x": 0.05
          },
          "updatemenudefaults": {
           "bgcolor": "#506784",
           "borderwidth": 0
          },
          "xaxis": {
           "automargin": true,
           "gridcolor": "#283442",
           "linecolor": "#506784",
           "ticks": "",
           "title": {
            "standoff": 15
           },
           "zerolinecolor": "#283442",
           "zerolinewidth": 2
          },
          "yaxis": {
           "automargin": true,
           "gridcolor": "#283442",
           "linecolor": "#506784",
           "ticks": "",
           "title": {
            "standoff": 15
           },
           "zerolinecolor": "#283442",
           "zerolinewidth": 2
          }
         }
        },
        "title": {
         "text": "Top 15 Countries Distribution Chart"
        }
       }
      }
     },
     "metadata": {},
     "output_type": "display_data"
    }
   ],
   "source": [
    "# Plotting the Top 15 'Manner of Death' Distribution. \n",
    "country_df = updated_df.groupBy('Country').agg(count('Country').alias('Country_cnt')).sort(col('Country_cnt').desc()).limit(15)\n",
    "country_df.show(20)\n",
    "country_pd = country_df.toPandas()\n",
    "\n",
    "fig = px.pie(country_pd, values='Country_cnt', names='Country', title='Top 15 Countries Distribution Chart', template = 'plotly_dark')\n",
    "fig.show()"
   ]
  },
  {
   "cell_type": "code",
   "execution_count": 13,
   "metadata": {},
   "outputs": [
    {
     "name": "stdout",
     "output_type": "stream",
     "text": [
      "+------------------+----------+\n",
      "|        Occupation|age_median|\n",
      "+------------------+----------+\n",
      "|Military personnel|        68|\n",
      "|    Businessperson|        76|\n",
      "|           Teacher|        76|\n",
      "|             Other|        73|\n",
      "|         Architect|        74|\n",
      "|            Artist|        72|\n",
      "|  Religious figure|        73|\n",
      "|        Researcher|        76|\n",
      "|        Journalist|        72|\n",
      "|        Politician|        73|\n",
      "+------------------+----------+\n",
      "\n"
     ]
    }
   ],
   "source": [
    "# Age-of-death by Occupdation\n",
    "updated_df.createOrReplaceTempView(\"demographics\")\n",
    "\n",
    "sql_query = \"\"\"SELECT Occupation, percentile_approx(`Age of death`, 0.5) as age_median\n",
    "                FROM demographics GROUP BY Occupation\n",
    "            \"\"\"\n",
    "spark.sql(sql_query).show()"
   ]
  },
  {
   "cell_type": "code",
   "execution_count": 34,
   "metadata": {},
   "outputs": [
    {
     "data": {
      "application/vnd.plotly.v1+json": {
       "config": {
        "plotlyServerURL": "https://plot.ly"
       },
       "data": [
        {
         "hovertemplate": "Birth Year=%{x}<br>age_median=%{y}<extra></extra>",
         "legendgroup": "",
         "line": {
          "color": "#636efa",
          "dash": "solid"
         },
         "marker": {
          "symbol": "circle"
         },
         "mode": "lines",
         "name": "",
         "orientation": "v",
         "showlegend": false,
         "type": "scatter",
         "x": [
          1901,
          1902,
          1903,
          1904,
          1905,
          1906,
          1907,
          1908,
          1909,
          1910,
          1911,
          1912,
          1913,
          1914,
          1915,
          1916,
          1917,
          1918,
          1919,
          1920,
          1921,
          1922,
          1923,
          1924,
          1925,
          1926,
          1927,
          1928,
          1929,
          1930,
          1931,
          1932,
          1933,
          1934,
          1935,
          1936,
          1937,
          1938,
          1939,
          1940,
          1941,
          1942,
          1943,
          1944,
          1945,
          1946,
          1947,
          1948,
          1949,
          1950,
          1951,
          1952,
          1953,
          1954,
          1955,
          1956,
          1957,
          1958,
          1959,
          1960,
          1961,
          1962,
          1963,
          1964,
          1965,
          1966,
          1967,
          1968,
          1969,
          1970,
          1971,
          1972,
          1973,
          1974,
          1975,
          1976,
          1977,
          1978,
          1979,
          1980,
          1981,
          1982,
          1983,
          1984,
          1985,
          1986,
          1987,
          1988,
          1989,
          1990,
          1991,
          1992,
          1993,
          1994,
          1995,
          1996,
          1997,
          1998,
          1999,
          2000,
          2001,
          2002,
          2003
         ],
         "xaxis": "x",
         "y": [
          76,
          77,
          76,
          77,
          77,
          78,
          78,
          78,
          78,
          79,
          79,
          80,
          80,
          80,
          80,
          81,
          81,
          82,
          82,
          82,
          83,
          83,
          83,
          83,
          82,
          82,
          82,
          81,
          80,
          80,
          80,
          78,
          78,
          77,
          76,
          76,
          74,
          73,
          73,
          72,
          71,
          69,
          69,
          67,
          67,
          66,
          65,
          63,
          63,
          62,
          61,
          59,
          59,
          58,
          57,
          56,
          55,
          54,
          53,
          52,
          52,
          50,
          48,
          49,
          46,
          45,
          44,
          44,
          42,
          41,
          40,
          40,
          40,
          37,
          37,
          35,
          35,
          35,
          33,
          32,
          32,
          31,
          30,
          29,
          29,
          28,
          26,
          26,
          25,
          26,
          23,
          24,
          22,
          22,
          21,
          21,
          20,
          20,
          18,
          17,
          12,
          16,
          15
         ],
         "yaxis": "y"
        }
       ],
       "layout": {
        "legend": {
         "tracegroupgap": 0
        },
        "margin": {
         "t": 60
        },
        "template": {
         "data": {
          "bar": [
           {
            "error_x": {
             "color": "#2a3f5f"
            },
            "error_y": {
             "color": "#2a3f5f"
            },
            "marker": {
             "line": {
              "color": "#E5ECF6",
              "width": 0.5
             },
             "pattern": {
              "fillmode": "overlay",
              "size": 10,
              "solidity": 0.2
             }
            },
            "type": "bar"
           }
          ],
          "barpolar": [
           {
            "marker": {
             "line": {
              "color": "#E5ECF6",
              "width": 0.5
             },
             "pattern": {
              "fillmode": "overlay",
              "size": 10,
              "solidity": 0.2
             }
            },
            "type": "barpolar"
           }
          ],
          "carpet": [
           {
            "aaxis": {
             "endlinecolor": "#2a3f5f",
             "gridcolor": "white",
             "linecolor": "white",
             "minorgridcolor": "white",
             "startlinecolor": "#2a3f5f"
            },
            "baxis": {
             "endlinecolor": "#2a3f5f",
             "gridcolor": "white",
             "linecolor": "white",
             "minorgridcolor": "white",
             "startlinecolor": "#2a3f5f"
            },
            "type": "carpet"
           }
          ],
          "choropleth": [
           {
            "colorbar": {
             "outlinewidth": 0,
             "ticks": ""
            },
            "type": "choropleth"
           }
          ],
          "contour": [
           {
            "colorbar": {
             "outlinewidth": 0,
             "ticks": ""
            },
            "colorscale": [
             [
              0,
              "#0d0887"
             ],
             [
              0.1111111111111111,
              "#46039f"
             ],
             [
              0.2222222222222222,
              "#7201a8"
             ],
             [
              0.3333333333333333,
              "#9c179e"
             ],
             [
              0.4444444444444444,
              "#bd3786"
             ],
             [
              0.5555555555555556,
              "#d8576b"
             ],
             [
              0.6666666666666666,
              "#ed7953"
             ],
             [
              0.7777777777777778,
              "#fb9f3a"
             ],
             [
              0.8888888888888888,
              "#fdca26"
             ],
             [
              1,
              "#f0f921"
             ]
            ],
            "type": "contour"
           }
          ],
          "contourcarpet": [
           {
            "colorbar": {
             "outlinewidth": 0,
             "ticks": ""
            },
            "type": "contourcarpet"
           }
          ],
          "heatmap": [
           {
            "colorbar": {
             "outlinewidth": 0,
             "ticks": ""
            },
            "colorscale": [
             [
              0,
              "#0d0887"
             ],
             [
              0.1111111111111111,
              "#46039f"
             ],
             [
              0.2222222222222222,
              "#7201a8"
             ],
             [
              0.3333333333333333,
              "#9c179e"
             ],
             [
              0.4444444444444444,
              "#bd3786"
             ],
             [
              0.5555555555555556,
              "#d8576b"
             ],
             [
              0.6666666666666666,
              "#ed7953"
             ],
             [
              0.7777777777777778,
              "#fb9f3a"
             ],
             [
              0.8888888888888888,
              "#fdca26"
             ],
             [
              1,
              "#f0f921"
             ]
            ],
            "type": "heatmap"
           }
          ],
          "heatmapgl": [
           {
            "colorbar": {
             "outlinewidth": 0,
             "ticks": ""
            },
            "colorscale": [
             [
              0,
              "#0d0887"
             ],
             [
              0.1111111111111111,
              "#46039f"
             ],
             [
              0.2222222222222222,
              "#7201a8"
             ],
             [
              0.3333333333333333,
              "#9c179e"
             ],
             [
              0.4444444444444444,
              "#bd3786"
             ],
             [
              0.5555555555555556,
              "#d8576b"
             ],
             [
              0.6666666666666666,
              "#ed7953"
             ],
             [
              0.7777777777777778,
              "#fb9f3a"
             ],
             [
              0.8888888888888888,
              "#fdca26"
             ],
             [
              1,
              "#f0f921"
             ]
            ],
            "type": "heatmapgl"
           }
          ],
          "histogram": [
           {
            "marker": {
             "pattern": {
              "fillmode": "overlay",
              "size": 10,
              "solidity": 0.2
             }
            },
            "type": "histogram"
           }
          ],
          "histogram2d": [
           {
            "colorbar": {
             "outlinewidth": 0,
             "ticks": ""
            },
            "colorscale": [
             [
              0,
              "#0d0887"
             ],
             [
              0.1111111111111111,
              "#46039f"
             ],
             [
              0.2222222222222222,
              "#7201a8"
             ],
             [
              0.3333333333333333,
              "#9c179e"
             ],
             [
              0.4444444444444444,
              "#bd3786"
             ],
             [
              0.5555555555555556,
              "#d8576b"
             ],
             [
              0.6666666666666666,
              "#ed7953"
             ],
             [
              0.7777777777777778,
              "#fb9f3a"
             ],
             [
              0.8888888888888888,
              "#fdca26"
             ],
             [
              1,
              "#f0f921"
             ]
            ],
            "type": "histogram2d"
           }
          ],
          "histogram2dcontour": [
           {
            "colorbar": {
             "outlinewidth": 0,
             "ticks": ""
            },
            "colorscale": [
             [
              0,
              "#0d0887"
             ],
             [
              0.1111111111111111,
              "#46039f"
             ],
             [
              0.2222222222222222,
              "#7201a8"
             ],
             [
              0.3333333333333333,
              "#9c179e"
             ],
             [
              0.4444444444444444,
              "#bd3786"
             ],
             [
              0.5555555555555556,
              "#d8576b"
             ],
             [
              0.6666666666666666,
              "#ed7953"
             ],
             [
              0.7777777777777778,
              "#fb9f3a"
             ],
             [
              0.8888888888888888,
              "#fdca26"
             ],
             [
              1,
              "#f0f921"
             ]
            ],
            "type": "histogram2dcontour"
           }
          ],
          "mesh3d": [
           {
            "colorbar": {
             "outlinewidth": 0,
             "ticks": ""
            },
            "type": "mesh3d"
           }
          ],
          "parcoords": [
           {
            "line": {
             "colorbar": {
              "outlinewidth": 0,
              "ticks": ""
             }
            },
            "type": "parcoords"
           }
          ],
          "pie": [
           {
            "automargin": true,
            "type": "pie"
           }
          ],
          "scatter": [
           {
            "fillpattern": {
             "fillmode": "overlay",
             "size": 10,
             "solidity": 0.2
            },
            "type": "scatter"
           }
          ],
          "scatter3d": [
           {
            "line": {
             "colorbar": {
              "outlinewidth": 0,
              "ticks": ""
             }
            },
            "marker": {
             "colorbar": {
              "outlinewidth": 0,
              "ticks": ""
             }
            },
            "type": "scatter3d"
           }
          ],
          "scattercarpet": [
           {
            "marker": {
             "colorbar": {
              "outlinewidth": 0,
              "ticks": ""
             }
            },
            "type": "scattercarpet"
           }
          ],
          "scattergeo": [
           {
            "marker": {
             "colorbar": {
              "outlinewidth": 0,
              "ticks": ""
             }
            },
            "type": "scattergeo"
           }
          ],
          "scattergl": [
           {
            "marker": {
             "colorbar": {
              "outlinewidth": 0,
              "ticks": ""
             }
            },
            "type": "scattergl"
           }
          ],
          "scattermapbox": [
           {
            "marker": {
             "colorbar": {
              "outlinewidth": 0,
              "ticks": ""
             }
            },
            "type": "scattermapbox"
           }
          ],
          "scatterpolar": [
           {
            "marker": {
             "colorbar": {
              "outlinewidth": 0,
              "ticks": ""
             }
            },
            "type": "scatterpolar"
           }
          ],
          "scatterpolargl": [
           {
            "marker": {
             "colorbar": {
              "outlinewidth": 0,
              "ticks": ""
             }
            },
            "type": "scatterpolargl"
           }
          ],
          "scatterternary": [
           {
            "marker": {
             "colorbar": {
              "outlinewidth": 0,
              "ticks": ""
             }
            },
            "type": "scatterternary"
           }
          ],
          "surface": [
           {
            "colorbar": {
             "outlinewidth": 0,
             "ticks": ""
            },
            "colorscale": [
             [
              0,
              "#0d0887"
             ],
             [
              0.1111111111111111,
              "#46039f"
             ],
             [
              0.2222222222222222,
              "#7201a8"
             ],
             [
              0.3333333333333333,
              "#9c179e"
             ],
             [
              0.4444444444444444,
              "#bd3786"
             ],
             [
              0.5555555555555556,
              "#d8576b"
             ],
             [
              0.6666666666666666,
              "#ed7953"
             ],
             [
              0.7777777777777778,
              "#fb9f3a"
             ],
             [
              0.8888888888888888,
              "#fdca26"
             ],
             [
              1,
              "#f0f921"
             ]
            ],
            "type": "surface"
           }
          ],
          "table": [
           {
            "cells": {
             "fill": {
              "color": "#EBF0F8"
             },
             "line": {
              "color": "white"
             }
            },
            "header": {
             "fill": {
              "color": "#C8D4E3"
             },
             "line": {
              "color": "white"
             }
            },
            "type": "table"
           }
          ]
         },
         "layout": {
          "annotationdefaults": {
           "arrowcolor": "#2a3f5f",
           "arrowhead": 0,
           "arrowwidth": 1
          },
          "autotypenumbers": "strict",
          "coloraxis": {
           "colorbar": {
            "outlinewidth": 0,
            "ticks": ""
           }
          },
          "colorscale": {
           "diverging": [
            [
             0,
             "#8e0152"
            ],
            [
             0.1,
             "#c51b7d"
            ],
            [
             0.2,
             "#de77ae"
            ],
            [
             0.3,
             "#f1b6da"
            ],
            [
             0.4,
             "#fde0ef"
            ],
            [
             0.5,
             "#f7f7f7"
            ],
            [
             0.6,
             "#e6f5d0"
            ],
            [
             0.7,
             "#b8e186"
            ],
            [
             0.8,
             "#7fbc41"
            ],
            [
             0.9,
             "#4d9221"
            ],
            [
             1,
             "#276419"
            ]
           ],
           "sequential": [
            [
             0,
             "#0d0887"
            ],
            [
             0.1111111111111111,
             "#46039f"
            ],
            [
             0.2222222222222222,
             "#7201a8"
            ],
            [
             0.3333333333333333,
             "#9c179e"
            ],
            [
             0.4444444444444444,
             "#bd3786"
            ],
            [
             0.5555555555555556,
             "#d8576b"
            ],
            [
             0.6666666666666666,
             "#ed7953"
            ],
            [
             0.7777777777777778,
             "#fb9f3a"
            ],
            [
             0.8888888888888888,
             "#fdca26"
            ],
            [
             1,
             "#f0f921"
            ]
           ],
           "sequentialminus": [
            [
             0,
             "#0d0887"
            ],
            [
             0.1111111111111111,
             "#46039f"
            ],
            [
             0.2222222222222222,
             "#7201a8"
            ],
            [
             0.3333333333333333,
             "#9c179e"
            ],
            [
             0.4444444444444444,
             "#bd3786"
            ],
            [
             0.5555555555555556,
             "#d8576b"
            ],
            [
             0.6666666666666666,
             "#ed7953"
            ],
            [
             0.7777777777777778,
             "#fb9f3a"
            ],
            [
             0.8888888888888888,
             "#fdca26"
            ],
            [
             1,
             "#f0f921"
            ]
           ]
          },
          "colorway": [
           "#636efa",
           "#EF553B",
           "#00cc96",
           "#ab63fa",
           "#FFA15A",
           "#19d3f3",
           "#FF6692",
           "#B6E880",
           "#FF97FF",
           "#FECB52"
          ],
          "font": {
           "color": "#2a3f5f"
          },
          "geo": {
           "bgcolor": "white",
           "lakecolor": "white",
           "landcolor": "#E5ECF6",
           "showlakes": true,
           "showland": true,
           "subunitcolor": "white"
          },
          "hoverlabel": {
           "align": "left"
          },
          "hovermode": "closest",
          "mapbox": {
           "style": "light"
          },
          "paper_bgcolor": "white",
          "plot_bgcolor": "#E5ECF6",
          "polar": {
           "angularaxis": {
            "gridcolor": "white",
            "linecolor": "white",
            "ticks": ""
           },
           "bgcolor": "#E5ECF6",
           "radialaxis": {
            "gridcolor": "white",
            "linecolor": "white",
            "ticks": ""
           }
          },
          "scene": {
           "xaxis": {
            "backgroundcolor": "#E5ECF6",
            "gridcolor": "white",
            "gridwidth": 2,
            "linecolor": "white",
            "showbackground": true,
            "ticks": "",
            "zerolinecolor": "white"
           },
           "yaxis": {
            "backgroundcolor": "#E5ECF6",
            "gridcolor": "white",
            "gridwidth": 2,
            "linecolor": "white",
            "showbackground": true,
            "ticks": "",
            "zerolinecolor": "white"
           },
           "zaxis": {
            "backgroundcolor": "#E5ECF6",
            "gridcolor": "white",
            "gridwidth": 2,
            "linecolor": "white",
            "showbackground": true,
            "ticks": "",
            "zerolinecolor": "white"
           }
          },
          "shapedefaults": {
           "line": {
            "color": "#2a3f5f"
           }
          },
          "ternary": {
           "aaxis": {
            "gridcolor": "white",
            "linecolor": "white",
            "ticks": ""
           },
           "baxis": {
            "gridcolor": "white",
            "linecolor": "white",
            "ticks": ""
           },
           "bgcolor": "#E5ECF6",
           "caxis": {
            "gridcolor": "white",
            "linecolor": "white",
            "ticks": ""
           }
          },
          "title": {
           "x": 0.05
          },
          "xaxis": {
           "automargin": true,
           "gridcolor": "white",
           "linecolor": "white",
           "ticks": "",
           "title": {
            "standoff": 15
           },
           "zerolinecolor": "white",
           "zerolinewidth": 2
          },
          "yaxis": {
           "automargin": true,
           "gridcolor": "white",
           "linecolor": "white",
           "ticks": "",
           "title": {
            "standoff": 15
           },
           "zerolinecolor": "white",
           "zerolinewidth": 2
          }
         }
        },
        "xaxis": {
         "anchor": "y",
         "domain": [
          0,
          1
         ],
         "title": {
          "text": "Birth Year"
         }
        },
        "yaxis": {
         "anchor": "x",
         "domain": [
          0,
          1
         ],
         "title": {
          "text": "age_median"
         }
        }
       }
      }
     },
     "metadata": {},
     "output_type": "display_data"
    }
   ],
   "source": [
    "# 'Median' Age by Birth-Year for people > 1900\n",
    "updated_df.createOrReplaceTempView(\"demographics\")\n",
    "\n",
    "sql_query = \"\"\"SELECT `Birth Year`, percentile_approx(`Age of death`, 0.5) as age_median\n",
    "                FROM demographics\n",
    "                WHERE `Birth Year` > 1900\n",
    "                GROUP BY `Birth Year`\n",
    "                ORDER BY `Birth Year`\n",
    "            \"\"\"\n",
    "birth_year_med_df = spark.sql(sql_query).toPandas()\n",
    "#birth_year_med_df\n",
    "#birth_year_med_df.set_index('Birth Year', inplace=True)\n",
    "fig = px.line(birth_year_med_df, x = \"Birth Year\", y = \"age_median\")\n",
    "fig"
   ]
  },
  {
   "cell_type": "code",
   "execution_count": 35,
   "metadata": {},
   "outputs": [
    {
     "data": {
      "text/plain": [
       "[<matplotlib.axis.YTick at 0x229fb42cb50>,\n",
       " <matplotlib.axis.YTick at 0x229fda94690>,\n",
       " <matplotlib.axis.YTick at 0x229fdba3e50>,\n",
       " <matplotlib.axis.YTick at 0x229ffc7f5d0>,\n",
       " <matplotlib.axis.YTick at 0x229ffc77250>,\n",
       " <matplotlib.axis.YTick at 0x229ffc84590>,\n",
       " <matplotlib.axis.YTick at 0x229ffc88450>]"
      ]
     },
     "execution_count": 35,
     "metadata": {},
     "output_type": "execute_result"
    },
    {
     "data": {
      "image/png": "[encoded data removed]",
      "text/plain": [
       "<Figure size 640x480 with 1 Axes>"
      ]
     },
     "metadata": {},
     "output_type": "display_data"
    }
   ],
   "source": [
    "# 'Median' Age by Death-Year for people > 1980\n",
    "updated_df.createOrReplaceTempView(\"demographics\")\n",
    "\n",
    "sql_query = \"\"\"SELECT `Death Year`, mean(`Age of death`) as avg_age\n",
    "                FROM demographics\n",
    "                WHERE `Death Year` > 2000\n",
    "                GROUP BY `Death Year`\n",
    "                ORDER BY `Death Year`\n",
    "            \"\"\"\n",
    "death_year_med_df = spark.sql(sql_query).toPandas()\n",
    "death_year_med_df.set_index('Death Year', inplace=True)\n",
    "death_year_med_df.plot(kind='line').set_yticks(range(75,82))"
   ]
  },
  {
   "cell_type": "code",
   "execution_count": 16,
   "metadata": {},
   "outputs": [
    {
     "name": "stdout",
     "output_type": "stream",
     "text": [
      "+--------------------+-----------+--------------------+-----------------+\n",
      "|             Country|Country_cnt|                   C|          avg_age|\n",
      "+--------------------+-----------+--------------------+-----------------+\n",
      "|  Kingdom of England|       4239|  Kingdom of England|58.85845718329795|\n",
      "|              Sweden|      18606|              Sweden| 72.3538105987316|\n",
      "|Kingdom of the Ne...|      13470|Kingdom of the Ne...|71.74409799554566|\n",
      "|             Germany|      78701|             Germany|70.29291876850358|\n",
      "|              France|      64278|              France|70.25063007560907|\n",
      "|           Argentina|       5921|           Argentina| 69.0013511231211|\n",
      "|             Belgium|       9816|             Belgium|71.48645069274653|\n",
      "|    Kingdom of Italy|       8688|    Kingdom of Italy|63.27232965009208|\n",
      "|United Kingdom; U...|      28269|United Kingdom; U...| 75.3907460469065|\n",
      "|             Finland|       8366|             Finland|70.52330863016974|\n",
      "|        Soviet Union|       4513|        Soviet Union|62.64569022822956|\n",
      "|Italy; Kingdom of...|      15223|Italy; Kingdom of...|76.03074295473954|\n",
      "|              Norway|      13563|              Norway|73.09968296099683|\n",
      "|               Spain|      20714|               Spain|68.54180747320653|\n",
      "|             Denmark|       8418|             Denmark|70.33416488477073|\n",
      "|United Kingdom of...|      17340|United Kingdom of...|62.68021914648212|\n",
      "|United States of ...|     145140|United States of ...|71.75688300950806|\n",
      "|              Mexico|       4059|              Mexico|67.85168760778517|\n",
      "|Kingdom of Great ...|       7035|Kingdom of Great ...|69.67789623312011|\n",
      "|         Switzerland|       9317|         Switzerland|72.54427390791027|\n",
      "+--------------------+-----------+--------------------+-----------------+\n",
      "only showing top 20 rows\n",
      "\n"
     ]
    },
    {
     "data": {
      "application/vnd.plotly.v1+json": {
       "config": {
        "plotlyServerURL": "https://plot.ly"
       },
       "data": [
        {
         "alignmentgroup": "True",
         "hovertemplate": "Country=%{x}<br>avg_age=%{y}<extra></extra>",
         "legendgroup": "",
         "marker": {
          "color": "#636efa",
          "pattern": {
           "shape": ""
          }
         },
         "name": "",
         "offsetgroup": "",
         "orientation": "v",
         "showlegend": false,
         "textposition": "auto",
         "type": "bar",
         "x": [
          "Kingdom of England",
          "Sweden",
          "Kingdom of the Netherlands",
          "Germany",
          "France",
          "Argentina",
          "Belgium",
          "Kingdom of Italy",
          "United Kingdom; United Kingdom of Great Britain and Ireland",
          "Finland",
          "Soviet Union",
          "Italy; Kingdom of Italy",
          "Norway",
          "Spain",
          "Denmark",
          "United Kingdom of Great Britain and Ireland",
          "United States of America",
          "Mexico",
          "Kingdom of Great Britain; United Kingdom of Great Britain and Ireland",
          "Switzerland",
          "Canada",
          "Brazil",
          "Japan",
          "New Zealand",
          "Poland",
          "Australia",
          "Russian Empire",
          "Austria",
          "Hungary",
          "United Kingdom"
         ],
         "xaxis": "x",
         "y": [
          58.85845718329795,
          72.3538105987316,
          71.74409799554566,
          70.29291876850358,
          70.25063007560907,
          69.0013511231211,
          71.48645069274653,
          63.27232965009208,
          75.3907460469065,
          70.52330863016974,
          62.64569022822956,
          76.03074295473954,
          73.09968296099683,
          68.54180747320653,
          70.33416488477073,
          62.68021914648212,
          71.75688300950806,
          67.85168760778517,
          69.67789623312011,
          72.54427390791027,
          72.3461996664284,
          69.02894648266577,
          70.5458298052498,
          73.29417080885676,
          70.08850745214382,
          71.84083816317433,
          61.71780639431616,
          71.10866794136393,
          69.1712204007286,
          71.60745644926516
         ],
         "yaxis": "y"
        }
       ],
       "layout": {
        "barmode": "relative",
        "legend": {
         "tracegroupgap": 0
        },
        "margin": {
         "t": 60
        },
        "template": {
         "data": {
          "bar": [
           {
            "error_x": {
             "color": "#2a3f5f"
            },
            "error_y": {
             "color": "#2a3f5f"
            },
            "marker": {
             "line": {
              "color": "#E5ECF6",
              "width": 0.5
             },
             "pattern": {
              "fillmode": "overlay",
              "size": 10,
              "solidity": 0.2
             }
            },
            "type": "bar"
           }
          ],
          "barpolar": [
           {
            "marker": {
             "line": {
              "color": "#E5ECF6",
              "width": 0.5
             },
             "pattern": {
              "fillmode": "overlay",
              "size": 10,
              "solidity": 0.2
             }
            },
            "type": "barpolar"
           }
          ],
          "carpet": [
           {
            "aaxis": {
             "endlinecolor": "#2a3f5f",
             "gridcolor": "white",
             "linecolor": "white",
             "minorgridcolor": "white",
             "startlinecolor": "#2a3f5f"
            },
            "baxis": {
             "endlinecolor": "#2a3f5f",
             "gridcolor": "white",
             "linecolor": "white",
             "minorgridcolor": "white",
             "startlinecolor": "#2a3f5f"
            },
            "type": "carpet"
           }
          ],
          "choropleth": [
           {
            "colorbar": {
             "outlinewidth": 0,
             "ticks": ""
            },
            "type": "choropleth"
           }
          ],
          "contour": [
           {
            "colorbar": {
             "outlinewidth": 0,
             "ticks": ""
            },
            "colorscale": [
             [
              0,
              "#0d0887"
             ],
             [
              0.1111111111111111,
              "#46039f"
             ],
             [
              0.2222222222222222,
              "#7201a8"
             ],
             [
              0.3333333333333333,
              "#9c179e"
             ],
             [
              0.4444444444444444,
              "#bd3786"
             ],
             [
              0.5555555555555556,
              "#d8576b"
             ],
             [
              0.6666666666666666,
              "#ed7953"
             ],
             [
              0.7777777777777778,
              "#fb9f3a"
             ],
             [
              0.8888888888888888,
              "#fdca26"
             ],
             [
              1,
              "#f0f921"
             ]
            ],
            "type": "contour"
           }
          ],
          "contourcarpet": [
           {
            "colorbar": {
             "outlinewidth": 0,
             "ticks": ""
            },
            "type": "contourcarpet"
           }
          ],
          "heatmap": [
           {
            "colorbar": {
             "outlinewidth": 0,
             "ticks": ""
            },
            "colorscale": [
             [
              0,
              "#0d0887"
             ],
             [
              0.1111111111111111,
              "#46039f"
             ],
             [
              0.2222222222222222,
              "#7201a8"
             ],
             [
              0.3333333333333333,
              "#9c179e"
             ],
             [
              0.4444444444444444,
              "#bd3786"
             ],
             [
              0.5555555555555556,
              "#d8576b"
             ],
             [
              0.6666666666666666,
              "#ed7953"
             ],
             [
              0.7777777777777778,
              "#fb9f3a"
             ],
             [
              0.8888888888888888,
              "#fdca26"
             ],
             [
              1,
              "#f0f921"
             ]
            ],
            "type": "heatmap"
           }
          ],
          "heatmapgl": [
           {
            "colorbar": {
             "outlinewidth": 0,
             "ticks": ""
            },
            "colorscale": [
             [
              0,
              "#0d0887"
             ],
             [
              0.1111111111111111,
              "#46039f"
             ],
             [
              0.2222222222222222,
              "#7201a8"
             ],
             [
              0.3333333333333333,
              "#9c179e"
             ],
             [
              0.4444444444444444,
              "#bd3786"
             ],
             [
              0.5555555555555556,
              "#d8576b"
             ],
             [
              0.6666666666666666,
              "#ed7953"
             ],
             [
              0.7777777777777778,
              "#fb9f3a"
             ],
             [
              0.8888888888888888,
              "#fdca26"
             ],
             [
              1,
              "#f0f921"
             ]
            ],
            "type": "heatmapgl"
           }
          ],
          "histogram": [
           {
            "marker": {
             "pattern": {
              "fillmode": "overlay",
              "size": 10,
              "solidity": 0.2
             }
            },
            "type": "histogram"
           }
          ],
          "histogram2d": [
           {
            "colorbar": {
             "outlinewidth": 0,
             "ticks": ""
            },
            "colorscale": [
             [
              0,
              "#0d0887"
             ],
             [
              0.1111111111111111,
              "#46039f"
             ],
             [
              0.2222222222222222,
              "#7201a8"
             ],
             [
              0.3333333333333333,
              "#9c179e"
             ],
             [
              0.4444444444444444,
              "#bd3786"
             ],
             [
              0.5555555555555556,
              "#d8576b"
             ],
             [
              0.6666666666666666,
              "#ed7953"
             ],
             [
              0.7777777777777778,
              "#fb9f3a"
             ],
             [
              0.8888888888888888,
              "#fdca26"
             ],
             [
              1,
              "#f0f921"
             ]
            ],
            "type": "histogram2d"
           }
          ],
          "histogram2dcontour": [
           {
            "colorbar": {
             "outlinewidth": 0,
             "ticks": ""
            },
            "colorscale": [
             [
              0,
              "#0d0887"
             ],
             [
              0.1111111111111111,
              "#46039f"
             ],
             [
              0.2222222222222222,
              "#7201a8"
             ],
             [
              0.3333333333333333,
              "#9c179e"
             ],
             [
              0.4444444444444444,
              "#bd3786"
             ],
             [
              0.5555555555555556,
              "#d8576b"
             ],
             [
              0.6666666666666666,
              "#ed7953"
             ],
             [
              0.7777777777777778,
              "#fb9f3a"
             ],
             [
              0.8888888888888888,
              "#fdca26"
             ],
             [
              1,
              "#f0f921"
             ]
            ],
            "type": "histogram2dcontour"
           }
          ],
          "mesh3d": [
           {
            "colorbar": {
             "outlinewidth": 0,
             "ticks": ""
            },
            "type": "mesh3d"
           }
          ],
          "parcoords": [
           {
            "line": {
             "colorbar": {
              "outlinewidth": 0,
              "ticks": ""
             }
            },
            "type": "parcoords"
           }
          ],
          "pie": [
           {
            "automargin": true,
            "type": "pie"
           }
          ],
          "scatter": [
           {
            "fillpattern": {
             "fillmode": "overlay",
             "size": 10,
             "solidity": 0.2
            },
            "type": "scatter"
           }
          ],
          "scatter3d": [
           {
            "line": {
             "colorbar": {
              "outlinewidth": 0,
              "ticks": ""
             }
            },
            "marker": {
             "colorbar": {
              "outlinewidth": 0,
              "ticks": ""
             }
            },
            "type": "scatter3d"
           }
          ],
          "scattercarpet": [
           {
            "marker": {
             "colorbar": {
              "outlinewidth": 0,
              "ticks": ""
             }
            },
            "type": "scattercarpet"
           }
          ],
          "scattergeo": [
           {
            "marker": {
             "colorbar": {
              "outlinewidth": 0,
              "ticks": ""
             }
            },
            "type": "scattergeo"
           }
          ],
          "scattergl": [
           {
            "marker": {
             "colorbar": {
              "outlinewidth": 0,
              "ticks": ""
             }
            },
            "type": "scattergl"
           }
          ],
          "scattermapbox": [
           {
            "marker": {
             "colorbar": {
              "outlinewidth": 0,
              "ticks": ""
             }
            },
            "type": "scattermapbox"
           }
          ],
          "scatterpolar": [
           {
            "marker": {
             "colorbar": {
              "outlinewidth": 0,
              "ticks": ""
             }
            },
            "type": "scatterpolar"
           }
          ],
          "scatterpolargl": [
           {
            "marker": {
             "colorbar": {
              "outlinewidth": 0,
              "ticks": ""
             }
            },
            "type": "scatterpolargl"
           }
          ],
          "scatterternary": [
           {
            "marker": {
             "colorbar": {
              "outlinewidth": 0,
              "ticks": ""
             }
            },
            "type": "scatterternary"
           }
          ],
          "surface": [
           {
            "colorbar": {
             "outlinewidth": 0,
             "ticks": ""
            },
            "colorscale": [
             [
              0,
              "#0d0887"
             ],
             [
              0.1111111111111111,
              "#46039f"
             ],
             [
              0.2222222222222222,
              "#7201a8"
             ],
             [
              0.3333333333333333,
              "#9c179e"
             ],
             [
              0.4444444444444444,
              "#bd3786"
             ],
             [
              0.5555555555555556,
              "#d8576b"
             ],
             [
              0.6666666666666666,
              "#ed7953"
             ],
             [
              0.7777777777777778,
              "#fb9f3a"
             ],
             [
              0.8888888888888888,
              "#fdca26"
             ],
             [
              1,
              "#f0f921"
             ]
            ],
            "type": "surface"
           }
          ],
          "table": [
           {
            "cells": {
             "fill": {
              "color": "#EBF0F8"
             },
             "line": {
              "color": "white"
             }
            },
            "header": {
             "fill": {
              "color": "#C8D4E3"
             },
             "line": {
              "color": "white"
             }
            },
            "type": "table"
           }
          ]
         },
         "layout": {
          "annotationdefaults": {
           "arrowcolor": "#2a3f5f",
           "arrowhead": 0,
           "arrowwidth": 1
          },
          "autotypenumbers": "strict",
          "coloraxis": {
           "colorbar": {
            "outlinewidth": 0,
            "ticks": ""
           }
          },
          "colorscale": {
           "diverging": [
            [
             0,
             "#8e0152"
            ],
            [
             0.1,
             "#c51b7d"
            ],
            [
             0.2,
             "#de77ae"
            ],
            [
             0.3,
             "#f1b6da"
            ],
            [
             0.4,
             "#fde0ef"
            ],
            [
             0.5,
             "#f7f7f7"
            ],
            [
             0.6,
             "#e6f5d0"
            ],
            [
             0.7,
             "#b8e186"
            ],
            [
             0.8,
             "#7fbc41"
            ],
            [
             0.9,
             "#4d9221"
            ],
            [
             1,
             "#276419"
            ]
           ],
           "sequential": [
            [
             0,
             "#0d0887"
            ],
            [
             0.1111111111111111,
             "#46039f"
            ],
            [
             0.2222222222222222,
             "#7201a8"
            ],
            [
             0.3333333333333333,
             "#9c179e"
            ],
            [
             0.4444444444444444,
             "#bd3786"
            ],
            [
             0.5555555555555556,
             "#d8576b"
            ],
            [
             0.6666666666666666,
             "#ed7953"
            ],
            [
             0.7777777777777778,
             "#fb9f3a"
            ],
            [
             0.8888888888888888,
             "#fdca26"
            ],
            [
             1,
             "#f0f921"
            ]
           ],
           "sequentialminus": [
            [
             0,
             "#0d0887"
            ],
            [
             0.1111111111111111,
             "#46039f"
            ],
            [
             0.2222222222222222,
             "#7201a8"
            ],
            [
             0.3333333333333333,
             "#9c179e"
            ],
            [
             0.4444444444444444,
             "#bd3786"
            ],
            [
             0.5555555555555556,
             "#d8576b"
            ],
            [
             0.6666666666666666,
             "#ed7953"
            ],
            [
             0.7777777777777778,
             "#fb9f3a"
            ],
            [
             0.8888888888888888,
             "#fdca26"
            ],
            [
             1,
             "#f0f921"
            ]
           ]
          },
          "colorway": [
           "#636efa",
           "#EF553B",
           "#00cc96",
           "#ab63fa",
           "#FFA15A",
           "#19d3f3",
           "#FF6692",
           "#B6E880",
           "#FF97FF",
           "#FECB52"
          ],
          "font": {
           "color": "#2a3f5f"
          },
          "geo": {
           "bgcolor": "white",
           "lakecolor": "white",
           "landcolor": "#E5ECF6",
           "showlakes": true,
           "showland": true,
           "subunitcolor": "white"
          },
          "hoverlabel": {
           "align": "left"
          },
          "hovermode": "closest",
          "mapbox": {
           "style": "light"
          },
          "paper_bgcolor": "white",
          "plot_bgcolor": "#E5ECF6",
          "polar": {
           "angularaxis": {
            "gridcolor": "white",
            "linecolor": "white",
            "ticks": ""
           },
           "bgcolor": "#E5ECF6",
           "radialaxis": {
            "gridcolor": "white",
            "linecolor": "white",
            "ticks": ""
           }
          },
          "scene": {
           "xaxis": {
            "backgroundcolor": "#E5ECF6",
            "gridcolor": "white",
            "gridwidth": 2,
            "linecolor": "white",
            "showbackground": true,
            "ticks": "",
            "zerolinecolor": "white"
           },
           "yaxis": {
            "backgroundcolor": "#E5ECF6",
            "gridcolor": "white",
            "gridwidth": 2,
            "linecolor": "white",
            "showbackground": true,
            "ticks": "",
            "zerolinecolor": "white"
           },
           "zaxis": {
            "backgroundcolor": "#E5ECF6",
            "gridcolor": "white",
            "gridwidth": 2,
            "linecolor": "white",
            "showbackground": true,
            "ticks": "",
            "zerolinecolor": "white"
           }
          },
          "shapedefaults": {
           "line": {
            "color": "#2a3f5f"
           }
          },
          "ternary": {
           "aaxis": {
            "gridcolor": "white",
            "linecolor": "white",
            "ticks": ""
           },
           "baxis": {
            "gridcolor": "white",
            "linecolor": "white",
            "ticks": ""
           },
           "bgcolor": "#E5ECF6",
           "caxis": {
            "gridcolor": "white",
            "linecolor": "white",
            "ticks": ""
           }
          },
          "title": {
           "x": 0.05
          },
          "xaxis": {
           "automargin": true,
           "gridcolor": "white",
           "linecolor": "white",
           "ticks": "",
           "title": {
            "standoff": 15
           },
           "zerolinecolor": "white",
           "zerolinewidth": 2
          },
          "yaxis": {
           "automargin": true,
           "gridcolor": "white",
           "linecolor": "white",
           "ticks": "",
           "title": {
            "standoff": 15
           },
           "zerolinecolor": "white",
           "zerolinewidth": 2
          }
         }
        },
        "xaxis": {
         "anchor": "y",
         "domain": [
          0,
          1
         ],
         "title": {
          "text": "Country"
         }
        },
        "yaxis": {
         "anchor": "x",
         "domain": [
          0,
          1
         ],
         "title": {
          "text": "avg_age"
         }
        }
       }
      }
     },
     "metadata": {},
     "output_type": "display_data"
    }
   ],
   "source": [
    "# 'Average' Age by Country (Top 30 based on famous people)\n",
    "updated_df.createOrReplaceTempView(\"demographics\")\n",
    "\n",
    "sql_query = \"\"\"SELECT Country as C, mean(`Age of death`) as avg_age\n",
    "                FROM demographics\n",
    "                GROUP BY Country\n",
    "            \"\"\"\n",
    "country_mean_df = spark.sql(sql_query)\n",
    "country_df = updated_df.groupBy('Country').agg(count('Country').alias('Country_cnt')).sort(col('Country_cnt').desc()).limit(30)\n",
    "country_age_death_df = country_df.join(country_mean_df, country_df['Country'] == country_mean_df['C'],\"inner\")\n",
    "country_age_death_df.show()\n",
    "\n",
    "fig = px.bar(country_age_death_df.toPandas(), x = \"Country\", y = \"avg_age\")\n",
    "fig"
   ]
  },
  {
   "cell_type": "code",
   "execution_count": 17,
   "metadata": {},
   "outputs": [
    {
     "name": "stdout",
     "output_type": "stream",
     "text": [
      "+-------+----------------+--------------------+------+-------+----------+----------+----------+---------------+------------+\n",
      "|     Id|            Name|   Short description|Gender|Country|Occupation|Birth year|Death year|Manner of death|Age of death|\n",
      "+-------+----------------+--------------------+------+-------+----------+----------+----------+---------------+------------+\n",
      "|Q182260|  Jeanne Calment|French supercente...|Female| France|     Other|      1875|      1997| natural causes|         122|\n",
      "|Q435743|Shigechiyo Izumi|Japanese supercen...|  Male|  Japan|     Other|      1865|      1986| natural causes|         121|\n",
      "+-------+----------------+--------------------+------+-------+----------+----------+----------+---------------+------------+\n",
      "\n"
     ]
    }
   ],
   "source": [
    "# Famous People with Age > 100\n",
    "age_df = updated_df.where(updated_df['Age of death'] > 100)\n",
    "age_df.show()"
   ]
  },
  {
   "cell_type": "code",
   "execution_count": 18,
   "metadata": {},
   "outputs": [
    {
     "name": "stdout",
     "output_type": "stream",
     "text": [
      "+-------+--------------------+--------------------+------+--------------------+------------------+----------+----------+--------------------+------------+\n",
      "|     Id|                Name|   Short description|Gender|             Country|        Occupation|Birth year|Death year|     Manner of death|Age of death|\n",
      "+-------+--------------------+--------------------+------+--------------------+------------------+----------+----------+--------------------+------------+\n",
      "| Q34618|     Gustave Courbet|French painter (1...|  Male|              France|            Artist|      1819|      1877|            epilepsy|          58|\n",
      "| Q44600|       Kaspar Hauser|A man with a myst...|  Male|Germany; Kingdom ...|            Artist|      1812|      1833|suicide; homicide...|          21|\n",
      "| Q45765|         Jack London|American author, ...|  Male|              Mexico|            Artist|      1876|      1916|suicide; homicide...|          40|\n",
      "| Q47878|         Sid Vicious|English bassist a...|  Male|      United Kingdom|            Artist|      1957|      1979|suicide; unfortun...|          22|\n",
      "| Q53041|     Valerio Zurlini|Italian film dire...|  Male|Italy; Kingdom of...|            Artist|      1926|      1982|   internal bleeding|          56|\n",
      "| Q57516| Hermann Weingärtner|      German gymnast|  Male|             Germany|            Artist|      1864|      1919|cardiac arrest; n...|          55|\n",
      "| Q59736|    Ignaz Semmelweis|Hungarian physici...|  Male|             Hungary|        Researcher|      1818|      1865|            Pospíšil|          47|\n",
      "| Q75766|         Maria Osten|       Soviet writer|Female|             Germany|            Artist|      1908|      1942|Category:People e...|          34|\n",
      "| Q81130|      Anders Celsius|Swedish astronome...|  Male|              Sweden|        Researcher|      1701|      1744|                 era|          43|\n",
      "| Q87557|       Otto Neururer|     Catholic priest|  Male|             Austria|  Religious figure|      1882|      1940|capital punishmen...|          58|\n",
      "|Q101638| Mary Wollstonecraft|English writer, p...|Female|Kingdom of Great ...|        Researcher|      1759|      1797|      maternal death|          38|\n",
      "|Q105589|         Paul Morphy|American chess pl...|  Male|United States of ...|             Other|      1837|      1884|              strain|          47|\n",
      "|Q152850|    Raoul Wallenberg|Swedish architect...|  Male|              Sweden|        Politician|      1912|      1947|homicide; death i...|          35|\n",
      "|Q162306|   Birendra of Nepal|former king of Nepal|  Male|               Nepal|             Other|      1945|      2001|           patricide|          56|\n",
      "|Q168441|    Irène Némirovsky|French novelist w...|Female|France; Russian E...|            Artist|      1903|      1942|          internment|          39|\n",
      "|Q190933|        Anton Webern|Austrian composer...|  Male|             Austria|            Artist|      1883|      1945|     shooting attack|          62|\n",
      "|Q191026|      Francis Galton|English polymath:...|  Male|United Kingdom of...|        Researcher|      1822|      1911|     cyclohexylamine|          89|\n",
      "|Q203011|          Zilda Arns|Brazilian pediatr...|Female|              Brazil|        Researcher|      1934|      2010|    natural disaster|          76|\n",
      "|Q214926|     Nikolai Vavilov|Russian botanist ...|  Male|Soviet Union; Rus...|        Researcher|      1887|      1943|          labor camp|          56|\n",
      "|Q216472|Johann Kaspar Thü...|militair uit Heil...|  Male|   Holy Roman Empire|Military personnel|      1722|      1800|            prisoner|          78|\n",
      "+-------+--------------------+--------------------+------+--------------------+------------------+----------+----------+--------------------+------------+\n",
      "only showing top 20 rows\n",
      "\n"
     ]
    }
   ],
   "source": [
    "# Unique ways of death\n",
    "least_death_10 = updated_df.groupBy('Manner of death').count().orderBy(asc('count')).limit(25)\n",
    "\n",
    "death_df = updated_df.join(least_death_10, updated_df['Manner of death'] == least_death_10['Manner of death'], \"leftsemi\")\n",
    "death_df.show()"
   ]
  },
  {
   "attachments": {},
   "cell_type": "markdown",
   "metadata": {},
   "source": [
    "#### In the above results, we can observe some 'interesting' ways, people have passed away like 'patricide' or 'maternal death' or 'cyclohexylamine' which is not common."
   ]
  },
  {
   "cell_type": "code",
   "execution_count": null,
   "metadata": {},
   "outputs": [],
   "source": []
  }
 ],
 "metadata": {
  "kernelspec": {
   "display_name": "bigdata",
   "language": "python",
   "name": "python3"
  },
  "language_info": {
   "codemirror_mode": {
    "name": "ipython",
    "version": 3
   },
   "file_extension": ".py",
   "mimetype": "text/x-python",
   "name": "python",
   "nbconvert_exporter": "python",
   "pygments_lexer": "ipython3",
   "version": "3.11.3"
  },
  "orig_nbformat": 4
 },
 "nbformat": 4,
 "nbformat_minor": 2
}
